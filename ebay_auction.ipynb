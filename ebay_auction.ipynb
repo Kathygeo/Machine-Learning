{
 "cells": [
  {
   "cell_type": "code",
   "execution_count": 3,
   "metadata": {},
   "outputs": [],
   "source": [
    "import pandas as pd \n",
    "import numpy as np\n",
    "import seaborn as sns\n",
    "from matplotlib               import pyplot as plt\n",
    "from sklearn.decomposition    import PCA\n",
    "from mlxtend.plotting         import plot_decision_regions\n",
    "from tabulate                 import tabulate\n",
    "\n",
    "from sklearn.preprocessing    import StandardScaler\n",
    "from sklearn.metrics.pairwise import rbf_kernel\n",
    "from sklearn.model_selection  import train_test_split\n",
    "from sklearn                  import linear_model\n",
    "from sklearn                  import metrics\n",
    "from sklearn.metrics          import classification_report # Produces nice report on classification\n",
    "from sklearn.metrics          import confusion_matrix      # Returns the confusion matrix\n",
    "\n",
    "from sklearn                  import svm\n",
    "from sklearn.linear_model     import LinearRegression      # Linear Regression Class\n",
    "from sklearn.linear_model     import LogisticRegression    # Logistic Regression Class\n",
    "from sklearn.svm              import SVC                   # SVM Regression Class\n",
    "from sklearn.svm              import SVR                   # SVM Regression Class\n",
    "from sklearn.ensemble         import RandomForestRegressor\n",
    "from sklearn.ensemble         import GradientBoostingRegressor\n",
    "from sklearn.model_selection  import GridSearchCV\n",
    "\n",
    "from sklearn.neighbors        import KNeighborsClassifier  # k-Nearest Neighbors Classification Class\n",
    "from sklearn.neural_network   import MLPClassifier\n",
    "\n",
    "%matplotlib inline"
   ]
  },
  {
   "cell_type": "markdown",
   "metadata": {},
   "source": [
    "## Περιγραφή και εκκαθάριση δεδομένων\n",
    "<br>Η εργασία βασίζεται σε δεδομένα δημοπρασιών της μορφής που διεξάγονται στο ebay. Οι μεταβλητές που περιλαμβάνονται στο αρχείο παρουσιάζονται παρακάτω. <br> \n",
    "Αρχικά, πραγματοποιείται έλεγχος των δεδομένων κατά τον οποίο δεν εμφανίζονται κενές τιμές στο dataset. Παρ΄ όλα αυτά παρουσιάζονται κενά στους τίτλους των στηλών τα οποία αφαιρούνται."
   ]
  },
  {
   "cell_type": "code",
   "execution_count": 4,
   "metadata": {},
   "outputs": [
    {
     "data": {
      "text/html": [
       "<div>\n",
       "<style scoped>\n",
       "    .dataframe tbody tr th:only-of-type {\n",
       "        vertical-align: middle;\n",
       "    }\n",
       "\n",
       "    .dataframe tbody tr th {\n",
       "        vertical-align: top;\n",
       "    }\n",
       "\n",
       "    .dataframe thead th {\n",
       "        text-align: right;\n",
       "    }\n",
       "</style>\n",
       "<table border=\"1\" class=\"dataframe\">\n",
       "  <thead>\n",
       "    <tr style=\"text-align: right;\">\n",
       "      <th></th>\n",
       "      <th>SellerId</th>\n",
       "      <th>SellerRating</th>\n",
       "      <th>ItemId</th>\n",
       "      <th>StartingBid</th>\n",
       "      <th>Price</th>\n",
       "      <th>NumBidders</th>\n",
       "    </tr>\n",
       "  </thead>\n",
       "  <tbody>\n",
       "    <tr>\n",
       "      <th>0</th>\n",
       "      <td>144.0</td>\n",
       "      <td>84.11</td>\n",
       "      <td>6.0</td>\n",
       "      <td>137.0</td>\n",
       "      <td>145.5</td>\n",
       "      <td>2.0</td>\n",
       "    </tr>\n",
       "    <tr>\n",
       "      <th>1</th>\n",
       "      <td>40.0</td>\n",
       "      <td>93.76</td>\n",
       "      <td>0.0</td>\n",
       "      <td>30.0</td>\n",
       "      <td>30.0</td>\n",
       "      <td>0.0</td>\n",
       "    </tr>\n",
       "    <tr>\n",
       "      <th>2</th>\n",
       "      <td>102.0</td>\n",
       "      <td>94.52</td>\n",
       "      <td>12.0</td>\n",
       "      <td>364.0</td>\n",
       "      <td>1278.0</td>\n",
       "      <td>8.0</td>\n",
       "    </tr>\n",
       "    <tr>\n",
       "      <th>3</th>\n",
       "      <td>77.0</td>\n",
       "      <td>97.41</td>\n",
       "      <td>2.0</td>\n",
       "      <td>82.0</td>\n",
       "      <td>106.5</td>\n",
       "      <td>3.0</td>\n",
       "    </tr>\n",
       "    <tr>\n",
       "      <th>4</th>\n",
       "      <td>54.0</td>\n",
       "      <td>80.32</td>\n",
       "      <td>4.0</td>\n",
       "      <td>173.0</td>\n",
       "      <td>173.0</td>\n",
       "      <td>0.0</td>\n",
       "    </tr>\n",
       "    <tr>\n",
       "      <th>...</th>\n",
       "      <td>...</td>\n",
       "      <td>...</td>\n",
       "      <td>...</td>\n",
       "      <td>...</td>\n",
       "      <td>...</td>\n",
       "      <td>...</td>\n",
       "    </tr>\n",
       "    <tr>\n",
       "      <th>18837</th>\n",
       "      <td>40.0</td>\n",
       "      <td>93.76</td>\n",
       "      <td>2.0</td>\n",
       "      <td>72.0</td>\n",
       "      <td>92.0</td>\n",
       "      <td>3.0</td>\n",
       "    </tr>\n",
       "    <tr>\n",
       "      <th>18838</th>\n",
       "      <td>112.0</td>\n",
       "      <td>84.30</td>\n",
       "      <td>3.0</td>\n",
       "      <td>100.0</td>\n",
       "      <td>139.5</td>\n",
       "      <td>3.0</td>\n",
       "    </tr>\n",
       "    <tr>\n",
       "      <th>18839</th>\n",
       "      <td>116.0</td>\n",
       "      <td>99.26</td>\n",
       "      <td>8.0</td>\n",
       "      <td>243.0</td>\n",
       "      <td>498.0</td>\n",
       "      <td>5.0</td>\n",
       "    </tr>\n",
       "    <tr>\n",
       "      <th>18840</th>\n",
       "      <td>10.0</td>\n",
       "      <td>87.26</td>\n",
       "      <td>4.0</td>\n",
       "      <td>167.0</td>\n",
       "      <td>169.5</td>\n",
       "      <td>1.0</td>\n",
       "    </tr>\n",
       "    <tr>\n",
       "      <th>18841</th>\n",
       "      <td>133.0</td>\n",
       "      <td>93.54</td>\n",
       "      <td>5.0</td>\n",
       "      <td>55.0</td>\n",
       "      <td>307.0</td>\n",
       "      <td>7.0</td>\n",
       "    </tr>\n",
       "  </tbody>\n",
       "</table>\n",
       "<p>18842 rows × 6 columns</p>\n",
       "</div>"
      ],
      "text/plain": [
       "       SellerId  SellerRating  ItemId  StartingBid   Price  NumBidders\n",
       "0         144.0         84.11     6.0        137.0   145.5         2.0\n",
       "1          40.0         93.76     0.0         30.0    30.0         0.0\n",
       "2         102.0         94.52    12.0        364.0  1278.0         8.0\n",
       "3          77.0         97.41     2.0         82.0   106.5         3.0\n",
       "4          54.0         80.32     4.0        173.0   173.0         0.0\n",
       "...         ...           ...     ...          ...     ...         ...\n",
       "18837      40.0         93.76     2.0         72.0    92.0         3.0\n",
       "18838     112.0         84.30     3.0        100.0   139.5         3.0\n",
       "18839     116.0         99.26     8.0        243.0   498.0         5.0\n",
       "18840      10.0         87.26     4.0        167.0   169.5         1.0\n",
       "18841     133.0         93.54     5.0         55.0   307.0         7.0\n",
       "\n",
       "[18842 rows x 6 columns]"
      ]
     },
     "execution_count": 4,
     "metadata": {},
     "output_type": "execute_result"
    }
   ],
   "source": [
    "df = pd.read_csv(\"auction_data.csv\")\n",
    "df.columns = df.columns.str.replace(' ', '')\n",
    "df"
   ]
  },
  {
   "cell_type": "code",
   "execution_count": 5,
   "metadata": {},
   "outputs": [
    {
     "data": {
      "text/plain": [
       "['SellerId', 'SellerRating', 'ItemId', 'StartingBid', 'Price', 'NumBidders']"
      ]
     },
     "execution_count": 5,
     "metadata": {},
     "output_type": "execute_result"
    }
   ],
   "source": [
    "list(df.columns)"
   ]
  },
  {
   "cell_type": "code",
   "execution_count": 6,
   "metadata": {},
   "outputs": [
    {
     "data": {
      "text/plain": [
       "SellerId        False\n",
       "SellerRating    False\n",
       "ItemId          False\n",
       "StartingBid     False\n",
       "Price           False\n",
       "NumBidders      False\n",
       "dtype: bool"
      ]
     },
     "execution_count": 6,
     "metadata": {},
     "output_type": "execute_result"
    }
   ],
   "source": [
    "df.isnull().any()"
   ]
  },
  {
   "cell_type": "markdown",
   "metadata": {},
   "source": [
    "Από τις μεταβλητές του dataset αυτές του <b>SellerID</b> καθώς και <b>ItemID</b> είναι αδιάφορες ως προς την πρόβλεψη των τιμών κλεισίματος, του κέρδους αλλά και της ανάδειξη της δημοπρασίας ως ολοκληρωμένη ( πραγματοποίηση πώλησης) και ως εκ τούτου αφαιρούνται.<br><br>\n",
    "Τέλος, προστίθεται μια νέα στήλη η οποία αναφέρει εάν η δημοπρασία έχει καταλήξει σε πώληση ή όχι. Η νέα στήλη δημιουργείται από τον έλεγχο της Τιμής Εκκίνησης και της Τιμής Κλεισίματος\n"
   ]
  },
  {
   "cell_type": "code",
   "execution_count": 7,
   "metadata": {
    "scrolled": true
   },
   "outputs": [
    {
     "data": {
      "text/html": [
       "<div>\n",
       "<style scoped>\n",
       "    .dataframe tbody tr th:only-of-type {\n",
       "        vertical-align: middle;\n",
       "    }\n",
       "\n",
       "    .dataframe tbody tr th {\n",
       "        vertical-align: top;\n",
       "    }\n",
       "\n",
       "    .dataframe thead th {\n",
       "        text-align: right;\n",
       "    }\n",
       "</style>\n",
       "<table border=\"1\" class=\"dataframe\">\n",
       "  <thead>\n",
       "    <tr style=\"text-align: right;\">\n",
       "      <th></th>\n",
       "      <th>SellerRating</th>\n",
       "      <th>StartingBid</th>\n",
       "      <th>Price</th>\n",
       "      <th>NumBidders</th>\n",
       "      <th>Sold</th>\n",
       "    </tr>\n",
       "  </thead>\n",
       "  <tbody>\n",
       "    <tr>\n",
       "      <th>0</th>\n",
       "      <td>84.11</td>\n",
       "      <td>137.0</td>\n",
       "      <td>145.5</td>\n",
       "      <td>2.0</td>\n",
       "      <td>1</td>\n",
       "    </tr>\n",
       "    <tr>\n",
       "      <th>1</th>\n",
       "      <td>93.76</td>\n",
       "      <td>30.0</td>\n",
       "      <td>30.0</td>\n",
       "      <td>0.0</td>\n",
       "      <td>0</td>\n",
       "    </tr>\n",
       "    <tr>\n",
       "      <th>2</th>\n",
       "      <td>94.52</td>\n",
       "      <td>364.0</td>\n",
       "      <td>1278.0</td>\n",
       "      <td>8.0</td>\n",
       "      <td>1</td>\n",
       "    </tr>\n",
       "    <tr>\n",
       "      <th>3</th>\n",
       "      <td>97.41</td>\n",
       "      <td>82.0</td>\n",
       "      <td>106.5</td>\n",
       "      <td>3.0</td>\n",
       "      <td>1</td>\n",
       "    </tr>\n",
       "    <tr>\n",
       "      <th>4</th>\n",
       "      <td>80.32</td>\n",
       "      <td>173.0</td>\n",
       "      <td>173.0</td>\n",
       "      <td>0.0</td>\n",
       "      <td>0</td>\n",
       "    </tr>\n",
       "    <tr>\n",
       "      <th>5</th>\n",
       "      <td>99.97</td>\n",
       "      <td>836.0</td>\n",
       "      <td>1146.0</td>\n",
       "      <td>4.0</td>\n",
       "      <td>1</td>\n",
       "    </tr>\n",
       "    <tr>\n",
       "      <th>6</th>\n",
       "      <td>99.01</td>\n",
       "      <td>207.0</td>\n",
       "      <td>599.0</td>\n",
       "      <td>4.0</td>\n",
       "      <td>1</td>\n",
       "    </tr>\n",
       "    <tr>\n",
       "      <th>7</th>\n",
       "      <td>99.97</td>\n",
       "      <td>348.0</td>\n",
       "      <td>529.0</td>\n",
       "      <td>3.0</td>\n",
       "      <td>1</td>\n",
       "    </tr>\n",
       "    <tr>\n",
       "      <th>8</th>\n",
       "      <td>99.26</td>\n",
       "      <td>18.0</td>\n",
       "      <td>100.0</td>\n",
       "      <td>7.0</td>\n",
       "      <td>1</td>\n",
       "    </tr>\n",
       "    <tr>\n",
       "      <th>9</th>\n",
       "      <td>84.11</td>\n",
       "      <td>8.0</td>\n",
       "      <td>24.5</td>\n",
       "      <td>4.0</td>\n",
       "      <td>1</td>\n",
       "    </tr>\n",
       "  </tbody>\n",
       "</table>\n",
       "</div>"
      ],
      "text/plain": [
       "   SellerRating  StartingBid   Price  NumBidders Sold\n",
       "0         84.11        137.0   145.5         2.0    1\n",
       "1         93.76         30.0    30.0         0.0    0\n",
       "2         94.52        364.0  1278.0         8.0    1\n",
       "3         97.41         82.0   106.5         3.0    1\n",
       "4         80.32        173.0   173.0         0.0    0\n",
       "5         99.97        836.0  1146.0         4.0    1\n",
       "6         99.01        207.0   599.0         4.0    1\n",
       "7         99.97        348.0   529.0         3.0    1\n",
       "8         99.26         18.0   100.0         7.0    1\n",
       "9         84.11          8.0    24.5         4.0    1"
      ]
     },
     "execution_count": 7,
     "metadata": {},
     "output_type": "execute_result"
    }
   ],
   "source": [
    "#add 'Sold' column where 0=not sold (aka StartingBid has the same value as Price) and 1=sold\n",
    "df['Sold'] = np.where(df['StartingBid']==df['Price'], '0', '1')\n",
    "\n",
    "#remove irrelevant columns \n",
    "cols_to_drop = [\"SellerId\",\"ItemId\"]\n",
    "df = df.drop(columns=cols_to_drop,axis=1)\n",
    "df.head(10)"
   ]
  },
  {
   "cell_type": "code",
   "execution_count": 8,
   "metadata": {},
   "outputs": [
    {
     "name": "stdout",
     "output_type": "stream",
     "text": [
      "<class 'pandas.core.frame.DataFrame'>\n",
      "RangeIndex: 18842 entries, 0 to 18841\n",
      "Data columns (total 5 columns):\n",
      " #   Column        Non-Null Count  Dtype  \n",
      "---  ------        --------------  -----  \n",
      " 0   SellerRating  18842 non-null  float64\n",
      " 1   StartingBid   18842 non-null  float64\n",
      " 2   Price         18842 non-null  float64\n",
      " 3   NumBidders    18842 non-null  float64\n",
      " 4   Sold          18842 non-null  object \n",
      "dtypes: float64(4), object(1)\n",
      "memory usage: 736.1+ KB\n"
     ]
    }
   ],
   "source": [
    "df.info()"
   ]
  },
  {
   "cell_type": "code",
   "execution_count": 9,
   "metadata": {},
   "outputs": [
    {
     "data": {
      "text/html": [
       "<div>\n",
       "<style scoped>\n",
       "    .dataframe tbody tr th:only-of-type {\n",
       "        vertical-align: middle;\n",
       "    }\n",
       "\n",
       "    .dataframe tbody tr th {\n",
       "        vertical-align: top;\n",
       "    }\n",
       "\n",
       "    .dataframe thead th {\n",
       "        text-align: right;\n",
       "    }\n",
       "</style>\n",
       "<table border=\"1\" class=\"dataframe\">\n",
       "  <thead>\n",
       "    <tr style=\"text-align: right;\">\n",
       "      <th></th>\n",
       "      <th>SellerRating</th>\n",
       "      <th>StartingBid</th>\n",
       "      <th>Price</th>\n",
       "      <th>NumBidders</th>\n",
       "    </tr>\n",
       "  </thead>\n",
       "  <tbody>\n",
       "    <tr>\n",
       "      <th>count</th>\n",
       "      <td>18842.000000</td>\n",
       "      <td>18842.000000</td>\n",
       "      <td>18842.000000</td>\n",
       "      <td>18842.000000</td>\n",
       "    </tr>\n",
       "    <tr>\n",
       "      <th>mean</th>\n",
       "      <td>90.046164</td>\n",
       "      <td>316.835899</td>\n",
       "      <td>393.979753</td>\n",
       "      <td>2.242172</td>\n",
       "    </tr>\n",
       "    <tr>\n",
       "      <th>std</th>\n",
       "      <td>6.009262</td>\n",
       "      <td>350.345270</td>\n",
       "      <td>384.044470</td>\n",
       "      <td>2.016307</td>\n",
       "    </tr>\n",
       "    <tr>\n",
       "      <th>min</th>\n",
       "      <td>80.050000</td>\n",
       "      <td>1.000000</td>\n",
       "      <td>1.250000</td>\n",
       "      <td>0.000000</td>\n",
       "    </tr>\n",
       "    <tr>\n",
       "      <th>25%</th>\n",
       "      <td>84.820000</td>\n",
       "      <td>80.000000</td>\n",
       "      <td>135.500000</td>\n",
       "      <td>0.000000</td>\n",
       "    </tr>\n",
       "    <tr>\n",
       "      <th>50%</th>\n",
       "      <td>90.460000</td>\n",
       "      <td>181.000000</td>\n",
       "      <td>235.500000</td>\n",
       "      <td>2.000000</td>\n",
       "    </tr>\n",
       "    <tr>\n",
       "      <th>75%</th>\n",
       "      <td>94.990000</td>\n",
       "      <td>426.000000</td>\n",
       "      <td>568.000000</td>\n",
       "      <td>4.000000</td>\n",
       "    </tr>\n",
       "    <tr>\n",
       "      <th>max</th>\n",
       "      <td>99.980000</td>\n",
       "      <td>2299.000000</td>\n",
       "      <td>2299.000000</td>\n",
       "      <td>10.000000</td>\n",
       "    </tr>\n",
       "  </tbody>\n",
       "</table>\n",
       "</div>"
      ],
      "text/plain": [
       "       SellerRating   StartingBid         Price    NumBidders\n",
       "count  18842.000000  18842.000000  18842.000000  18842.000000\n",
       "mean      90.046164    316.835899    393.979753      2.242172\n",
       "std        6.009262    350.345270    384.044470      2.016307\n",
       "min       80.050000      1.000000      1.250000      0.000000\n",
       "25%       84.820000     80.000000    135.500000      0.000000\n",
       "50%       90.460000    181.000000    235.500000      2.000000\n",
       "75%       94.990000    426.000000    568.000000      4.000000\n",
       "max       99.980000   2299.000000   2299.000000     10.000000"
      ]
     },
     "execution_count": 9,
     "metadata": {},
     "output_type": "execute_result"
    }
   ],
   "source": [
    "df.describe()"
   ]
  },
  {
   "cell_type": "markdown",
   "metadata": {},
   "source": [
    "Παρακάτω παρουσιάζεται η συσχέτιση μεταξύ των μεταβλητών. Όπως παρατηρείται οι τιμές StartingBid και Price έχουν αρκετή συσχέτιση όπως ήταν αναμενόμενο."
   ]
  },
  {
   "cell_type": "code",
   "execution_count": 10,
   "metadata": {},
   "outputs": [
    {
     "data": {
      "image/png": "[encoded data removed]",
      "text/plain": [
       "<Figure size 720x504 with 2 Axes>"
      ]
     },
     "metadata": {
      "needs_background": "light"
     },
     "output_type": "display_data"
    }
   ],
   "source": [
    "f = plt.figure(figsize = (10,7))\n",
    "plt.matshow(df.corr(), fignum = f.number)\n",
    "plt.xticks(range(df.shape[1]), df.columns, fontsize=10, rotation=0)\n",
    "plt.yticks(range(df.shape[1]), df.columns, fontsize=10)\n",
    "cb = plt.colorbar()\n",
    "cb.ax.tick_params(labelsize=10)\n",
    "plt.title('Correlation Matrix', fontsize=16);"
   ]
  },
  {
   "cell_type": "code",
   "execution_count": 11,
   "metadata": {},
   "outputs": [
    {
     "data": {
      "image/png": "[encoded data removed]",
      "text/plain": [
       "<Figure size 720x360 with 1 Axes>"
      ]
     },
     "metadata": {
      "needs_background": "light"
     },
     "output_type": "display_data"
    }
   ],
   "source": [
    "fig, ax = plt.subplots(figsize=(10,5))\n",
    "ax.scatter(df['Price'], df['NumBidders'])\n",
    "ax.set_xlabel('Closing Price')\n",
    "ax.set_ylabel('Value of Starting Bid')\n",
    "plt.show()"
   ]
  },
  {
   "cell_type": "markdown",
   "metadata": {},
   "source": [
    "Στο παραπάνω διάγραμμα παρατηρούνται κάποιοι outliers οι οποίοι απομονώνονται με τη χρήση IQR.\n",
    "Παρ' όλα αυτά οι τιμές αυτές θεωρούνται χρήσιμες οπότε δεν αφαιρούνται από το dataset"
   ]
  },
  {
   "cell_type": "code",
   "execution_count": 12,
   "metadata": {},
   "outputs": [
    {
     "data": {
      "text/html": [
       "<div>\n",
       "<style scoped>\n",
       "    .dataframe tbody tr th:only-of-type {\n",
       "        vertical-align: middle;\n",
       "    }\n",
       "\n",
       "    .dataframe tbody tr th {\n",
       "        vertical-align: top;\n",
       "    }\n",
       "\n",
       "    .dataframe thead th {\n",
       "        text-align: right;\n",
       "    }\n",
       "</style>\n",
       "<table border=\"1\" class=\"dataframe\">\n",
       "  <thead>\n",
       "    <tr style=\"text-align: right;\">\n",
       "      <th></th>\n",
       "      <th>SellerRating</th>\n",
       "      <th>StartingBid</th>\n",
       "      <th>Price</th>\n",
       "      <th>NumBidders</th>\n",
       "      <th>Sold</th>\n",
       "    </tr>\n",
       "  </thead>\n",
       "  <tbody>\n",
       "    <tr>\n",
       "      <th>0</th>\n",
       "      <td>84.11</td>\n",
       "      <td>137.0</td>\n",
       "      <td>145.5</td>\n",
       "      <td>2.0</td>\n",
       "      <td>1</td>\n",
       "    </tr>\n",
       "    <tr>\n",
       "      <th>1</th>\n",
       "      <td>93.76</td>\n",
       "      <td>30.0</td>\n",
       "      <td>30.0</td>\n",
       "      <td>0.0</td>\n",
       "      <td>0</td>\n",
       "    </tr>\n",
       "    <tr>\n",
       "      <th>3</th>\n",
       "      <td>97.41</td>\n",
       "      <td>82.0</td>\n",
       "      <td>106.5</td>\n",
       "      <td>3.0</td>\n",
       "      <td>1</td>\n",
       "    </tr>\n",
       "    <tr>\n",
       "      <th>4</th>\n",
       "      <td>80.32</td>\n",
       "      <td>173.0</td>\n",
       "      <td>173.0</td>\n",
       "      <td>0.0</td>\n",
       "      <td>0</td>\n",
       "    </tr>\n",
       "    <tr>\n",
       "      <th>5</th>\n",
       "      <td>99.97</td>\n",
       "      <td>836.0</td>\n",
       "      <td>1146.0</td>\n",
       "      <td>4.0</td>\n",
       "      <td>1</td>\n",
       "    </tr>\n",
       "    <tr>\n",
       "      <th>...</th>\n",
       "      <td>...</td>\n",
       "      <td>...</td>\n",
       "      <td>...</td>\n",
       "      <td>...</td>\n",
       "      <td>...</td>\n",
       "    </tr>\n",
       "    <tr>\n",
       "      <th>18837</th>\n",
       "      <td>93.76</td>\n",
       "      <td>72.0</td>\n",
       "      <td>92.0</td>\n",
       "      <td>3.0</td>\n",
       "      <td>1</td>\n",
       "    </tr>\n",
       "    <tr>\n",
       "      <th>18838</th>\n",
       "      <td>84.30</td>\n",
       "      <td>100.0</td>\n",
       "      <td>139.5</td>\n",
       "      <td>3.0</td>\n",
       "      <td>1</td>\n",
       "    </tr>\n",
       "    <tr>\n",
       "      <th>18839</th>\n",
       "      <td>99.26</td>\n",
       "      <td>243.0</td>\n",
       "      <td>498.0</td>\n",
       "      <td>5.0</td>\n",
       "      <td>1</td>\n",
       "    </tr>\n",
       "    <tr>\n",
       "      <th>18840</th>\n",
       "      <td>87.26</td>\n",
       "      <td>167.0</td>\n",
       "      <td>169.5</td>\n",
       "      <td>1.0</td>\n",
       "      <td>1</td>\n",
       "    </tr>\n",
       "    <tr>\n",
       "      <th>18841</th>\n",
       "      <td>93.54</td>\n",
       "      <td>55.0</td>\n",
       "      <td>307.0</td>\n",
       "      <td>7.0</td>\n",
       "      <td>1</td>\n",
       "    </tr>\n",
       "  </tbody>\n",
       "</table>\n",
       "<p>17808 rows × 5 columns</p>\n",
       "</div>"
      ],
      "text/plain": [
       "       SellerRating  StartingBid   Price  NumBidders Sold\n",
       "0             84.11        137.0   145.5         2.0    1\n",
       "1             93.76         30.0    30.0         0.0    0\n",
       "3             97.41         82.0   106.5         3.0    1\n",
       "4             80.32        173.0   173.0         0.0    0\n",
       "5             99.97        836.0  1146.0         4.0    1\n",
       "...             ...          ...     ...         ...  ...\n",
       "18837         93.76         72.0    92.0         3.0    1\n",
       "18838         84.30        100.0   139.5         3.0    1\n",
       "18839         99.26        243.0   498.0         5.0    1\n",
       "18840         87.26        167.0   169.5         1.0    1\n",
       "18841         93.54         55.0   307.0         7.0    1\n",
       "\n",
       "[17808 rows x 5 columns]"
      ]
     },
     "execution_count": 12,
     "metadata": {},
     "output_type": "execute_result"
    }
   ],
   "source": [
    "# outlier detection and removal\n",
    "Q1 = df['Price'].quantile(0.25)\n",
    "Q3 = df['Price'].quantile(0.75)\n",
    "IQR = Q3 - Q1 \n",
    "filter = (df['Price'] >= Q1 - 1.5 * IQR) & (df['Price'] <= Q3 + 1.5 *IQR)\n",
    "df2 = df.loc[filter]\n",
    "df2"
   ]
  },
  {
   "cell_type": "code",
   "execution_count": 13,
   "metadata": {},
   "outputs": [
    {
     "data": {
      "image/png": "[encoded data removed]",
      "text/plain": [
       "<Figure size 720x360 with 1 Axes>"
      ]
     },
     "metadata": {
      "needs_background": "light"
     },
     "output_type": "display_data"
    }
   ],
   "source": [
    "#visualize the dataset without the outliers\n",
    "fig, ax = plt.subplots(figsize=(10,5))\n",
    "ax.scatter(df2['Price'], df2['NumBidders'])\n",
    "ax.set_xlabel('Closing Price')\n",
    "ax.set_ylabel('Bidders Number ')\n",
    "plt.show()"
   ]
  },
  {
   "cell_type": "markdown",
   "metadata": {},
   "source": [
    "## 1. Πρόβλεψη Τιμής Κλεισίματος<br>\n",
    "\n",
    "Για την πρόβλεψη της τιμής κλεισίματος γίνεται χρήση του μοντέλου Multiple Regression και Random Forest.<br> \n",
    "Αρχικά το dataset χωρίζεται σε 70% train και 30% test με εξαρτημένη μεταβλητή το Price.<br>"
   ]
  },
  {
   "cell_type": "markdown",
   "metadata": {},
   "source": [
    "\n",
    "### 1.1 Multiple Regression<br>"
   ]
  },
  {
   "cell_type": "code",
   "execution_count": 14,
   "metadata": {},
   "outputs": [
    {
     "data": {
      "text/html": [
       "<div>\n",
       "<style scoped>\n",
       "    .dataframe tbody tr th:only-of-type {\n",
       "        vertical-align: middle;\n",
       "    }\n",
       "\n",
       "    .dataframe tbody tr th {\n",
       "        vertical-align: top;\n",
       "    }\n",
       "\n",
       "    .dataframe thead th {\n",
       "        text-align: right;\n",
       "    }\n",
       "</style>\n",
       "<table border=\"1\" class=\"dataframe\">\n",
       "  <thead>\n",
       "    <tr style=\"text-align: right;\">\n",
       "      <th></th>\n",
       "      <th>SellerRating</th>\n",
       "      <th>StartingBid</th>\n",
       "      <th>NumBidders</th>\n",
       "      <th>Sold</th>\n",
       "    </tr>\n",
       "  </thead>\n",
       "  <tbody>\n",
       "    <tr>\n",
       "      <th>10071</th>\n",
       "      <td>87.26</td>\n",
       "      <td>159.0</td>\n",
       "      <td>1.0</td>\n",
       "      <td>1</td>\n",
       "    </tr>\n",
       "    <tr>\n",
       "      <th>13354</th>\n",
       "      <td>86.84</td>\n",
       "      <td>715.0</td>\n",
       "      <td>4.0</td>\n",
       "      <td>1</td>\n",
       "    </tr>\n",
       "    <tr>\n",
       "      <th>11650</th>\n",
       "      <td>86.75</td>\n",
       "      <td>70.0</td>\n",
       "      <td>0.0</td>\n",
       "      <td>0</td>\n",
       "    </tr>\n",
       "    <tr>\n",
       "      <th>1383</th>\n",
       "      <td>99.26</td>\n",
       "      <td>53.0</td>\n",
       "      <td>5.0</td>\n",
       "      <td>1</td>\n",
       "    </tr>\n",
       "    <tr>\n",
       "      <th>4771</th>\n",
       "      <td>80.31</td>\n",
       "      <td>32.0</td>\n",
       "      <td>4.0</td>\n",
       "      <td>1</td>\n",
       "    </tr>\n",
       "    <tr>\n",
       "      <th>...</th>\n",
       "      <td>...</td>\n",
       "      <td>...</td>\n",
       "      <td>...</td>\n",
       "      <td>...</td>\n",
       "    </tr>\n",
       "    <tr>\n",
       "      <th>6181</th>\n",
       "      <td>90.57</td>\n",
       "      <td>24.0</td>\n",
       "      <td>2.0</td>\n",
       "      <td>1</td>\n",
       "    </tr>\n",
       "    <tr>\n",
       "      <th>4044</th>\n",
       "      <td>91.90</td>\n",
       "      <td>277.0</td>\n",
       "      <td>0.0</td>\n",
       "      <td>0</td>\n",
       "    </tr>\n",
       "    <tr>\n",
       "      <th>10529</th>\n",
       "      <td>80.18</td>\n",
       "      <td>17.0</td>\n",
       "      <td>3.0</td>\n",
       "      <td>1</td>\n",
       "    </tr>\n",
       "    <tr>\n",
       "      <th>14107</th>\n",
       "      <td>94.26</td>\n",
       "      <td>14.0</td>\n",
       "      <td>4.0</td>\n",
       "      <td>1</td>\n",
       "    </tr>\n",
       "    <tr>\n",
       "      <th>18129</th>\n",
       "      <td>97.09</td>\n",
       "      <td>25.0</td>\n",
       "      <td>1.0</td>\n",
       "      <td>1</td>\n",
       "    </tr>\n",
       "  </tbody>\n",
       "</table>\n",
       "<p>5653 rows × 4 columns</p>\n",
       "</div>"
      ],
      "text/plain": [
       "       SellerRating  StartingBid  NumBidders Sold\n",
       "10071         87.26        159.0         1.0    1\n",
       "13354         86.84        715.0         4.0    1\n",
       "11650         86.75         70.0         0.0    0\n",
       "1383          99.26         53.0         5.0    1\n",
       "4771          80.31         32.0         4.0    1\n",
       "...             ...          ...         ...  ...\n",
       "6181          90.57         24.0         2.0    1\n",
       "4044          91.90        277.0         0.0    0\n",
       "10529         80.18         17.0         3.0    1\n",
       "14107         94.26         14.0         4.0    1\n",
       "18129         97.09         25.0         1.0    1\n",
       "\n",
       "[5653 rows x 4 columns]"
      ]
     },
     "execution_count": 14,
     "metadata": {},
     "output_type": "execute_result"
    }
   ],
   "source": [
    "#define x and y variables\n",
    "#split the dataset in 70% train and 30% test\n",
    "\n",
    "y = df.Price\n",
    "X = df[['SellerRating', 'StartingBid', 'NumBidders', 'Sold']]\n",
    "X_train, X_test, y_train, y_test = train_test_split(X, y, test_size=0.3, random_state = 42) \n",
    "X_test"
   ]
  },
  {
   "cell_type": "code",
   "execution_count": 15,
   "metadata": {},
   "outputs": [
    {
     "name": "stdout",
     "output_type": "stream",
     "text": [
      "(13189, 4) (13189,)\n",
      "(5653, 4) (5653,)\n"
     ]
    }
   ],
   "source": [
    "print(X_train.shape, y_train.shape)\n",
    "print(X_test.shape, y_test.shape)"
   ]
  },
  {
   "cell_type": "code",
   "execution_count": 16,
   "metadata": {},
   "outputs": [],
   "source": [
    "# sc_x = StandardScaler()\n",
    "# X_train = sc_x.fit_transform(X_train)\n",
    "# X_test = sc_x.fit_transform(X_test)"
   ]
  },
  {
   "cell_type": "markdown",
   "metadata": {},
   "source": [
    "Παρατηρήθηκε πως μετά την κανονικοποίηση των δεδομένων παρ' όλο που το accuracy δεν παρουσιάζει μεγάλη διαφορά οι τιμές των Coefficient μεταβάλλονται αρκετά. <br> Συγκεκριμένα παράγονται τα παρακάτω αποτελέσματα:\n",
    "\n",
    "**Coefficient**<br>\n",
    "SellerRating:\t-0.309745<br>\n",
    "StartingBid:\t381.599133<br>\n",
    "NumBidders:\t87.062954<br>\n",
    "Sold:\t-4.325168<br>\n",
    "\n",
    "Στον παραπάνω πίνακα η μεταβλητή Price διαθέτει την μεγαλύτερη εξάρτηση με την μεταβλητή StartingBid και στη συνέχεια με την NumBidders, κάτι το οποίο δεν ισχύει. Συνεπώς δεν θα γίνει κανονικοποίηση στα δεδομένα.<br>\n",
    "Σε αυτή την περίπτωση όπως φαίνεται παρακάτω τον μεγαλύτερο συντελεστή coeffiency διαθέτει το NumBidders "
   ]
  },
  {
   "cell_type": "code",
   "execution_count": 17,
   "metadata": {},
   "outputs": [],
   "source": [
    "linear = LinearRegression() "
   ]
  },
  {
   "cell_type": "code",
   "execution_count": 18,
   "metadata": {},
   "outputs": [
    {
     "name": "stdout",
     "output_type": "stream",
     "text": [
      "Coefficients: [-0.05142089  1.08143884 43.26921197 -9.43944952]\n",
      "Intercept: -33.46612452230835\n"
     ]
    }
   ],
   "source": [
    "linear.fit(X_train, y_train) \n",
    "print('Coefficients:', linear.coef_)\n",
    "print('Intercept:', linear.intercept_)"
   ]
  },
  {
   "cell_type": "code",
   "execution_count": 19,
   "metadata": {},
   "outputs": [
    {
     "data": {
      "text/html": [
       "<div>\n",
       "<style scoped>\n",
       "    .dataframe tbody tr th:only-of-type {\n",
       "        vertical-align: middle;\n",
       "    }\n",
       "\n",
       "    .dataframe tbody tr th {\n",
       "        vertical-align: top;\n",
       "    }\n",
       "\n",
       "    .dataframe thead th {\n",
       "        text-align: right;\n",
       "    }\n",
       "</style>\n",
       "<table border=\"1\" class=\"dataframe\">\n",
       "  <thead>\n",
       "    <tr style=\"text-align: right;\">\n",
       "      <th></th>\n",
       "      <th>Coefficient</th>\n",
       "    </tr>\n",
       "  </thead>\n",
       "  <tbody>\n",
       "    <tr>\n",
       "      <th>SellerRating</th>\n",
       "      <td>-0.051421</td>\n",
       "    </tr>\n",
       "    <tr>\n",
       "      <th>StartingBid</th>\n",
       "      <td>1.081439</td>\n",
       "    </tr>\n",
       "    <tr>\n",
       "      <th>NumBidders</th>\n",
       "      <td>43.269212</td>\n",
       "    </tr>\n",
       "    <tr>\n",
       "      <th>Sold</th>\n",
       "      <td>-9.439450</td>\n",
       "    </tr>\n",
       "  </tbody>\n",
       "</table>\n",
       "</div>"
      ],
      "text/plain": [
       "              Coefficient\n",
       "SellerRating    -0.051421\n",
       "StartingBid      1.081439\n",
       "NumBidders      43.269212\n",
       "Sold            -9.439450"
      ]
     },
     "execution_count": 19,
     "metadata": {},
     "output_type": "execute_result"
    }
   ],
   "source": [
    "coeff_df = pd.DataFrame(linear.coef_, X.columns, columns=['Coefficient'])  \n",
    "coeff_df"
   ]
  },
  {
   "cell_type": "code",
   "execution_count": 20,
   "metadata": {},
   "outputs": [
    {
     "data": {
      "text/plain": [
       "[<matplotlib.lines.Line2D at 0x125ec382c48>]"
      ]
     },
     "execution_count": 20,
     "metadata": {},
     "output_type": "execute_result"
    },
    {
     "data": {
      "image/png": "[encoded data removed]",
      "text/plain": [
       "<Figure size 432x288 with 1 Axes>"
      ]
     },
     "metadata": {
      "needs_background": "light"
     },
     "output_type": "display_data"
    }
   ],
   "source": [
    "plt.plot(coeff_df, linestyle = 'none', marker = '*', markersize = 7, color = 'red', zorder = 7)"
   ]
  },
  {
   "cell_type": "markdown",
   "metadata": {},
   "source": [
    "Παρακάτω απεικονίζονται συγκριτικοι πίνακες και διαγράμματα των πραγματικών και την προβλεπόμενων τιμών."
   ]
  },
  {
   "cell_type": "code",
   "execution_count": 21,
   "metadata": {},
   "outputs": [
    {
     "data": {
      "text/html": [
       "<div>\n",
       "<style scoped>\n",
       "    .dataframe tbody tr th:only-of-type {\n",
       "        vertical-align: middle;\n",
       "    }\n",
       "\n",
       "    .dataframe tbody tr th {\n",
       "        vertical-align: top;\n",
       "    }\n",
       "\n",
       "    .dataframe thead th {\n",
       "        text-align: right;\n",
       "    }\n",
       "</style>\n",
       "<table border=\"1\" class=\"dataframe\">\n",
       "  <thead>\n",
       "    <tr style=\"text-align: right;\">\n",
       "      <th></th>\n",
       "      <th>Actual</th>\n",
       "      <th>Predicted</th>\n",
       "    </tr>\n",
       "  </thead>\n",
       "  <tbody>\n",
       "    <tr>\n",
       "      <th>10071</th>\n",
       "      <td>161.5</td>\n",
       "      <td>167.825427</td>\n",
       "    </tr>\n",
       "    <tr>\n",
       "      <th>13354</th>\n",
       "      <td>998.0</td>\n",
       "      <td>898.934654</td>\n",
       "    </tr>\n",
       "    <tr>\n",
       "      <th>11650</th>\n",
       "      <td>70.0</td>\n",
       "      <td>37.773832</td>\n",
       "    </tr>\n",
       "    <tr>\n",
       "      <th>1383</th>\n",
       "      <td>173.5</td>\n",
       "      <td>225.652707</td>\n",
       "    </tr>\n",
       "    <tr>\n",
       "      <th>4771</th>\n",
       "      <td>52.0</td>\n",
       "      <td>160.647705</td>\n",
       "    </tr>\n",
       "    <tr>\n",
       "      <th>...</th>\n",
       "      <td>...</td>\n",
       "      <td>...</td>\n",
       "    </tr>\n",
       "    <tr>\n",
       "      <th>6181</th>\n",
       "      <td>26.0</td>\n",
       "      <td>64.930192</td>\n",
       "    </tr>\n",
       "    <tr>\n",
       "      <th>4044</th>\n",
       "      <td>277.0</td>\n",
       "      <td>261.366854</td>\n",
       "    </tr>\n",
       "    <tr>\n",
       "      <th>10529</th>\n",
       "      <td>24.5</td>\n",
       "      <td>101.163595</td>\n",
       "    </tr>\n",
       "    <tr>\n",
       "      <th>14107</th>\n",
       "      <td>23.5</td>\n",
       "      <td>140.464484</td>\n",
       "    </tr>\n",
       "    <tr>\n",
       "      <th>18129</th>\n",
       "      <td>26.0</td>\n",
       "      <td>22.407155</td>\n",
       "    </tr>\n",
       "  </tbody>\n",
       "</table>\n",
       "<p>5653 rows × 2 columns</p>\n",
       "</div>"
      ],
      "text/plain": [
       "       Actual   Predicted\n",
       "10071   161.5  167.825427\n",
       "13354   998.0  898.934654\n",
       "11650    70.0   37.773832\n",
       "1383    173.5  225.652707\n",
       "4771     52.0  160.647705\n",
       "...       ...         ...\n",
       "6181     26.0   64.930192\n",
       "4044    277.0  261.366854\n",
       "10529    24.5  101.163595\n",
       "14107    23.5  140.464484\n",
       "18129    26.0   22.407155\n",
       "\n",
       "[5653 rows x 2 columns]"
      ]
     },
     "execution_count": 21,
     "metadata": {},
     "output_type": "execute_result"
    }
   ],
   "source": [
    "y_pred = linear.predict(X_test)\n",
    "df_new = pd.DataFrame({'Actual': y_test, 'Predicted': y_pred})\n",
    "df_new"
   ]
  },
  {
   "cell_type": "code",
   "execution_count": 22,
   "metadata": {},
   "outputs": [
    {
     "data": {
      "image/png": "[encoded data removed]",
      "text/plain": [
       "<Figure size 720x432 with 1 Axes>"
      ]
     },
     "metadata": {
      "needs_background": "light"
     },
     "output_type": "display_data"
    }
   ],
   "source": [
    "#visualize the difference between actual price and predicted price\n",
    "AvsP = df_new.head(30)\n",
    "AvsP.plot(kind ='bar',figsize = (10,6))\n",
    "plt.show()"
   ]
  },
  {
   "cell_type": "code",
   "execution_count": 23,
   "metadata": {
    "scrolled": true
   },
   "outputs": [
    {
     "name": "stdout",
     "output_type": "stream",
     "text": [
      "Accuracy: 0.895533787589926\n"
     ]
    }
   ],
   "source": [
    "print('Accuracy:',linear.score(X_test,y_test))"
   ]
  },
  {
   "cell_type": "code",
   "execution_count": 24,
   "metadata": {},
   "outputs": [
    {
     "name": "stdout",
     "output_type": "stream",
     "text": [
      "Mean Absolute Error: 68.87593182097979\n",
      "Mean Squared Error: 14804.330600460356\n",
      "Root Mean Squared Error: 121.67304796239945\n"
     ]
    }
   ],
   "source": [
    "print('Mean Absolute Error:', metrics.mean_absolute_error(y_test, y_pred))  \n",
    "print('Mean Squared Error:', metrics.mean_squared_error(y_test, y_pred))  \n",
    "print('Root Mean Squared Error:', np.sqrt(metrics.mean_squared_error(y_test, y_pred)))"
   ]
  },
  {
   "cell_type": "markdown",
   "metadata": {},
   "source": [
    "### 1.2 Random Forest\n",
    "Στη συνέχεια γίνεται εκπαίδευση του dataset χρησιμοποιώντας Random Forest Regressor.<br>\n",
    "Για την εύρεση του optimal n_estimaros γίνεται χρήση της παραμέτρου GridSearchCV για 10, 100, 1000 δέντρα. Βάση των αποτελεσμάτων η εκπαίδευση γίνεται με n_estimators = 1000 και καταλήγει σε accuracy 89,6%."
   ]
  },
  {
   "cell_type": "code",
   "execution_count": 27,
   "metadata": {},
   "outputs": [],
   "source": [
    "y= df.Price\n",
    "X= df[['SellerRating', 'StartingBid', 'NumBidders', 'Sold']]\n",
    "XR_train, XR_test, yR_train, yR_test = train_test_split(X, y, test_size=0.3, random_state = 42) "
   ]
  },
  {
   "cell_type": "code",
   "execution_count": 28,
   "metadata": {},
   "outputs": [
    {
     "name": "stdout",
     "output_type": "stream",
     "text": [
      "{'bootstrap': True, 'ccp_alpha': 0.0, 'criterion': 'mse', 'max_depth': None, 'max_features': 'auto', 'max_leaf_nodes': None, 'max_samples': None, 'min_impurity_decrease': 0.0, 'min_impurity_split': None, 'min_samples_leaf': 1, 'min_samples_split': 6, 'min_weight_fraction_leaf': 0.0, 'n_estimators': 1000, 'n_jobs': None, 'oob_score': False, 'random_state': 1, 'verbose': 0, 'warm_start': False}\n"
     ]
    }
   ],
   "source": [
    "model_params = {\n",
    "    'n_estimators': [10, 100, 1000],\n",
    "    'max_features': ['auto'],\n",
    "    'min_samples_split': [2, 4, 6]\n",
    "}\n",
    "rf_model = RandomForestRegressor(random_state = 1)\n",
    "clf = GridSearchCV(rf_model, model_params, cv = 5)\n",
    "model = clf.fit(XR_train, yR_train)\n",
    "print(model.best_estimator_.get_params())"
   ]
  },
  {
   "cell_type": "code",
   "execution_count": 29,
   "metadata": {},
   "outputs": [],
   "source": [
    "rmr = RandomForestRegressor(n_estimators = 1000, random_state = 42)\n",
    "rmr.fit(XR_train, yR_train)\n",
    "rmr_pred = rmr.predict(XR_test)"
   ]
  },
  {
   "cell_type": "markdown",
   "metadata": {},
   "source": [
    "Παρακάτω παρουσιάζεται η σύγκριση των πραγματικών με τις προβλεπόμενες τιμές καθώς και τα Accuracy, Mean Absolute Error, Mean Squared Error και Root Mean Squared Error"
   ]
  },
  {
   "cell_type": "code",
   "execution_count": 30,
   "metadata": {},
   "outputs": [
    {
     "data": {
      "text/html": [
       "<div>\n",
       "<style scoped>\n",
       "    .dataframe tbody tr th:only-of-type {\n",
       "        vertical-align: middle;\n",
       "    }\n",
       "\n",
       "    .dataframe tbody tr th {\n",
       "        vertical-align: top;\n",
       "    }\n",
       "\n",
       "    .dataframe thead th {\n",
       "        text-align: right;\n",
       "    }\n",
       "</style>\n",
       "<table border=\"1\" class=\"dataframe\">\n",
       "  <thead>\n",
       "    <tr style=\"text-align: right;\">\n",
       "      <th></th>\n",
       "      <th>Actual</th>\n",
       "      <th>Predicted</th>\n",
       "    </tr>\n",
       "  </thead>\n",
       "  <tbody>\n",
       "    <tr>\n",
       "      <th>10071</th>\n",
       "      <td>161.5</td>\n",
       "      <td>161.498000</td>\n",
       "    </tr>\n",
       "    <tr>\n",
       "      <th>13354</th>\n",
       "      <td>998.0</td>\n",
       "      <td>1052.095000</td>\n",
       "    </tr>\n",
       "    <tr>\n",
       "      <th>11650</th>\n",
       "      <td>70.0</td>\n",
       "      <td>70.002000</td>\n",
       "    </tr>\n",
       "    <tr>\n",
       "      <th>1383</th>\n",
       "      <td>173.5</td>\n",
       "      <td>195.218492</td>\n",
       "    </tr>\n",
       "    <tr>\n",
       "      <th>4771</th>\n",
       "      <td>52.0</td>\n",
       "      <td>735.736000</td>\n",
       "    </tr>\n",
       "    <tr>\n",
       "      <th>...</th>\n",
       "      <td>...</td>\n",
       "      <td>...</td>\n",
       "    </tr>\n",
       "    <tr>\n",
       "      <th>6181</th>\n",
       "      <td>26.0</td>\n",
       "      <td>27.046289</td>\n",
       "    </tr>\n",
       "    <tr>\n",
       "      <th>4044</th>\n",
       "      <td>277.0</td>\n",
       "      <td>276.967000</td>\n",
       "    </tr>\n",
       "    <tr>\n",
       "      <th>10529</th>\n",
       "      <td>24.5</td>\n",
       "      <td>36.187227</td>\n",
       "    </tr>\n",
       "    <tr>\n",
       "      <th>14107</th>\n",
       "      <td>23.5</td>\n",
       "      <td>49.416750</td>\n",
       "    </tr>\n",
       "    <tr>\n",
       "      <th>18129</th>\n",
       "      <td>26.0</td>\n",
       "      <td>25.996500</td>\n",
       "    </tr>\n",
       "  </tbody>\n",
       "</table>\n",
       "<p>5653 rows × 2 columns</p>\n",
       "</div>"
      ],
      "text/plain": [
       "       Actual    Predicted\n",
       "10071   161.5   161.498000\n",
       "13354   998.0  1052.095000\n",
       "11650    70.0    70.002000\n",
       "1383    173.5   195.218492\n",
       "4771     52.0   735.736000\n",
       "...       ...          ...\n",
       "6181     26.0    27.046289\n",
       "4044    277.0   276.967000\n",
       "10529    24.5    36.187227\n",
       "14107    23.5    49.416750\n",
       "18129    26.0    25.996500\n",
       "\n",
       "[5653 rows x 2 columns]"
      ]
     },
     "execution_count": 30,
     "metadata": {},
     "output_type": "execute_result"
    }
   ],
   "source": [
    "df_new = pd.DataFrame({'Actual': yR_test, 'Predicted': rmr_pred})\n",
    "df_new"
   ]
  },
  {
   "cell_type": "code",
   "execution_count": 31,
   "metadata": {},
   "outputs": [
    {
     "name": "stdout",
     "output_type": "stream",
     "text": [
      "Accuracy: 0.8962817556066124\n",
      "Mean Absolute Error: 54.88854891394231\n",
      "Mean Squared Error: 14698.333019595368\n",
      "Root Mean Squared Error: 121.236681823594\n"
     ]
    }
   ],
   "source": [
    "print('Accuracy:', rmr.score(XR_test, yR_test))\n",
    "print('Mean Absolute Error:', metrics.mean_absolute_error(yR_test, rmr_pred))  \n",
    "print('Mean Squared Error:', metrics.mean_squared_error(yR_test, rmr_pred))  \n",
    "print('Root Mean Squared Error:', np.sqrt(metrics.mean_squared_error(yR_test, rmr_pred)))"
   ]
  },
  {
   "cell_type": "code",
   "execution_count": 32,
   "metadata": {},
   "outputs": [
    {
     "data": {
      "text/plain": [
       "array([ 2.00000000e-03, -5.40950000e+01, -2.00000000e-03, ...,\n",
       "       -1.16872274e+01, -2.59167500e+01,  3.50000000e-03])"
      ]
     },
     "execution_count": 32,
     "metadata": {},
     "output_type": "execute_result"
    }
   ],
   "source": [
    "residual = yR_test.values-rmr_pred\n",
    "residual"
   ]
  },
  {
   "cell_type": "markdown",
   "metadata": {},
   "source": [
    "Τα accuracy των 2 μεθόδων παρουσιάζονται παρακάτω. Όπως φαίνεται οι 2 μέθοδοι έχουν σχεδόν την ίδια αποτελεσματικότητα ως προς την πρόβλεψη της τιμής κλεισίματος"
   ]
  },
  {
   "cell_type": "code",
   "execution_count": null,
   "metadata": {},
   "outputs": [],
   "source": [
    "random = rmr.score(XR_test, yR_test)\n",
    "random = (f\"{random:.2%}\")\n",
    "lin = linear.score(X_test,y_test)\n",
    "lin = (f\"{lin:.2%}\")\n",
    "print(tabulate([['Multiple Regression', lin], ['Random Forest', random]], headers=['Prediction Method', 'Accuracy']))"
   ]
  },
  {
   "cell_type": "markdown",
   "metadata": {},
   "source": [
    "### 1.3 Διάστημα τιμής κλεισίματος \n",
    "Η πρόβλεψη του διαστήματος της τιμής κλεισίματος γίνεται με χρήση του Gradient Boosting Regressor.\n",
    "Στον παρακάτω πίνακα παρουσιάζεται το προβλεπόμενο διάστημα (Lower, Upper) για την τιμή κλεισίματος."
   ]
  },
  {
   "cell_type": "code",
   "execution_count": null,
   "metadata": {},
   "outputs": [],
   "source": [
    "LOWER_ALPHA = 0.1\n",
    "UPPER_ALPHA = 0.9\n",
    "low = GradientBoostingRegressor(loss=\"quantile\",alpha=LOWER_ALPHA)\n",
    "mid = GradientBoostingRegressor(loss=\"ls\")\n",
    "upper = GradientBoostingRegressor(loss=\"quantile\",alpha=UPPER_ALPHA)"
   ]
  },
  {
   "cell_type": "code",
   "execution_count": null,
   "metadata": {},
   "outputs": [],
   "source": [
    "low.fit(X_train, y_train)\n",
    "mid.fit(X_train, y_train)\n",
    "upper.fit(X_train, y_train)\n",
    "predictions = pd.DataFrame(y_test)\n",
    "predictions['Lower'] = low.predict(X_test)\n",
    "predictions['Mid'] = mid.predict(X_test)\n",
    "predictions['Upper'] = upper.predict(X_test)\n",
    "predictions"
   ]
  },
  {
   "cell_type": "markdown",
   "metadata": {},
   "source": [
    "## 2.Πρόβλεψη του αν η δημοπρασία θα οδηγήσει σε πώληση ή οχι\n",
    "\n",
    "Για την πρόβλεψη της πώλησης χρησιμοποιούνται oι αλγόριθμοι Logistic Regression και kNN.\n",
    "\n",
    "### 2.1 Logistic Regression\n",
    "Γίνεται και πάλι διαχωρισμός των δεδομένων σε train και test data με την μεταβλητή Sold ως εξαρτημένη.\n",
    "Αρχικά γίνεται κανονικοποίηση των ανεξάρτητων μεταβλητών του train και test dataset και στη συνέχεια γίνεται η εκπαίδευση και η πρόβλεψη στις test τιμές."
   ]
  },
  {
   "cell_type": "code",
   "execution_count": null,
   "metadata": {},
   "outputs": [],
   "source": [
    "yS = df.Sold\n",
    "XS = df[['SellerRating', 'StartingBid', 'NumBidders', 'Price']]"
   ]
  },
  {
   "cell_type": "code",
   "execution_count": null,
   "metadata": {},
   "outputs": [],
   "source": [
    "Xtrain, Xtest, ytrain, ytest = train_test_split(XS, yS, test_size=0.3, random_state = 42) # 70% training and 30% test"
   ]
  },
  {
   "cell_type": "code",
   "execution_count": null,
   "metadata": {},
   "outputs": [],
   "source": [
    "ssc = StandardScaler()                                                  # Initialize a StandardScaler object\n",
    "Xtrain = ssc.fit_transform(Xtrain)                                      # Fit and transform the training set\n",
    "Xtrain = ssc.transform(Xtrain)"
   ]
  },
  {
   "cell_type": "code",
   "execution_count": null,
   "metadata": {},
   "outputs": [],
   "source": [
    "logistic = LogisticRegression()\n",
    "logistic.fit(Xtrain, ytrain)\n",
    "Lpred = logistic.predict(Xtest)\n",
    "logistic.score(Xtest, ytest)"
   ]
  },
  {
   "cell_type": "code",
   "execution_count": null,
   "metadata": {},
   "outputs": [],
   "source": [
    "print('coef:',logistic.coef_)\n",
    "print('intercept:',logistic.intercept_)"
   ]
  },
  {
   "cell_type": "markdown",
   "metadata": {},
   "source": [
    "Όπως φαίνεται παραπάνω το accuracy του μοντέλου είναι 77%. Οι διαφορές των πραγματικών με των προβλεπόμενων τιμών παρουσιάζονται παρακάτω."
   ]
  },
  {
   "cell_type": "code",
   "execution_count": null,
   "metadata": {},
   "outputs": [],
   "source": [
    "df_log = pd.DataFrame({'Actual': ytest, 'Predicted': Lpred})\n",
    "df_log"
   ]
  },
  {
   "cell_type": "code",
   "execution_count": null,
   "metadata": {},
   "outputs": [],
   "source": [
    "print(metrics.confusion_matrix(ytest, Lpred))\n",
    "print(metrics.classification_report(ytest, Lpred))"
   ]
  },
  {
   "cell_type": "markdown",
   "metadata": {},
   "source": [
    "### 2.2 kNN \n",
    "Η επιλογή των n_neighbours γίνεται με την γραφική απεικόνιση του σφάλματος της τιμής k. Όπως παρατηρείται παρακάτω το μέσο σφάλμα είναι 0 όταν η τιμή k είναι ίση με 5, το οποίο αποφέρει 96,5% accuracy."
   ]
  },
  {
   "cell_type": "code",
   "execution_count": null,
   "metadata": {},
   "outputs": [],
   "source": [
    "knn = KNeighborsClassifier(n_neighbors = 5, algorithm = 'kd_tree', p = 2, metric = 'minkowski', weights = 'distance')\n",
    "knn.fit(Xtrain, ytrain)\n",
    "knn_pred = knn.predict(Xtest)\n",
    "print(knn.score(Xtest, ytest))\n",
    "print(classification_report(ytest, knn_pred))\n",
    "print(confusion_matrix(ytest, knn_pred))"
   ]
  },
  {
   "cell_type": "code",
   "execution_count": null,
   "metadata": {},
   "outputs": [],
   "source": [
    "error = []\n",
    "# Calculating error for K values between 1 and 40\n",
    "for i in range(1, 40):\n",
    "    knn = KNeighborsClassifier(n_neighbors = i)\n",
    "    knn.fit(Xtrain, ytrain)\n",
    "    pred_i = knn.predict(Xtest)\n",
    "    error.append(np.mean(pred_i != ytest))"
   ]
  },
  {
   "cell_type": "code",
   "execution_count": null,
   "metadata": {
    "scrolled": false
   },
   "outputs": [],
   "source": [
    "plt.figure(figsize = (12, 6))\n",
    "plt.plot(range(1, 40), error, color = 'red', linestyle = 'dashed', marker = 'o', markerfacecolor = 'blue', markersize=10)\n",
    "plt.title('Error Rate K Value')\n",
    "plt.xlabel('K Value')\n",
    "plt.ylabel('Mean Error')"
   ]
  },
  {
   "cell_type": "markdown",
   "metadata": {},
   "source": [
    "Τέλος παρουσιάζονται τα υπολογιζόμενα accuracy που προέκυψαν απο τις 2 μεθόδους πρόβλεψης πώλησης. Όπως ήταν αναμενόμενο η διαφορά και πάλι δεν είναι μεγάλη."
   ]
  },
  {
   "cell_type": "code",
   "execution_count": null,
   "metadata": {},
   "outputs": [],
   "source": [
    "log = logistic.score(Xtest, ytest)\n",
    "log = (f\"{log:.2%}\")\n",
    "kNN = knn.score(Xtest,ytest)\n",
    "kNN = (f\"{kNN:.2%}\")\n",
    "print(tabulate([['Logistic Regression', log], ['kNN', kNN]], headers=['Prediction Method', 'Accuracy']))"
   ]
  },
  {
   "cell_type": "code",
   "execution_count": null,
   "metadata": {},
   "outputs": [],
   "source": []
  }
 ],
 "metadata": {
  "kernelspec": {
   "display_name": "Python 3",
   "language": "python",
   "name": "python3"
  },
  "language_info": {
   "codemirror_mode": {
    "name": "ipython",
    "version": 3
   },
   "file_extension": ".py",
   "mimetype": "text/x-python",
   "name": "python",
   "nbconvert_exporter": "python",
   "pygments_lexer": "ipython3",
   "version": "3.7.7"
  }
 },
 "nbformat": 4,
 "nbformat_minor": 4
}
